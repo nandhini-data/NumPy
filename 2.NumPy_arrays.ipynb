{
 "cells": [
  {
   "cell_type": "markdown",
   "id": "35644a34",
   "metadata": {},
   "source": [
    "# <center> NumPy Arrays</center>"
   ]
  },
  {
   "cell_type": "markdown",
   "id": "3decd680",
   "metadata": {},
   "source": [
    "**NumPy arrays** are fixed size container of items that are more efficient than python list and tuples for data processing.\n",
    "* They only store single data type.\n",
    "* Array can be one dimensional or multi dimensional.\n",
    "* Array element can be modified,but the array size cannot change."
   ]
  },
  {
   "cell_type": "code",
   "execution_count": 2,
   "id": "225dd8b7",
   "metadata": {},
   "outputs": [
    {
     "data": {
      "text/plain": [
       "array([  1,  10,  23,  89,  45,  32,  43,  55,  67, 100,  12])"
      ]
     },
     "execution_count": 2,
     "metadata": {},
     "output_type": "execute_result"
    }
   ],
   "source": [
    "#NumPy array function convert python list and tuples into numpy array\n",
    "\n",
    "import numpy as np\n",
    "price = [1,10,23,89,45,32,43,55,67,100,12] #Its a list\n",
    "\n",
    "price_array =np.array(price)\n",
    "price_array\n"
   ]
  },
  {
   "cell_type": "markdown",
   "id": "4bf6275d",
   "metadata": {},
   "source": [
    "**Array Properties** are:\n",
    "* **ndim** - the number of dimension in the array.\n",
    "* **shape** - the size of array of each dimension.\n",
    "* **size** - the total number of elements in the array.\n",
    "* **dtype** - the data type of the element in the array."
   ]
  },
  {
   "cell_type": "code",
   "execution_count": 7,
   "id": "1cceb9f0",
   "metadata": {},
   "outputs": [
    {
     "data": {
      "text/plain": [
       "list"
      ]
     },
     "execution_count": 7,
     "metadata": {},
     "output_type": "execute_result"
    }
   ],
   "source": [
    "type(price)"
   ]
  },
  {
   "cell_type": "code",
   "execution_count": 6,
   "id": "ad36ba8e",
   "metadata": {},
   "outputs": [
    {
     "data": {
      "text/plain": [
       "numpy.ndarray"
      ]
     },
     "execution_count": 6,
     "metadata": {},
     "output_type": "execute_result"
    }
   ],
   "source": [
    "type(price_array)"
   ]
  },
  {
   "cell_type": "code",
   "execution_count": 11,
   "id": "8ebd292c",
   "metadata": {},
   "outputs": [
    {
     "name": "stdout",
     "output_type": "stream",
     "text": [
      "ndim:  1\n",
      "shape:  (11,)\n",
      "size:  11\n",
      "dtype:  int32\n"
     ]
    }
   ],
   "source": [
    "print(\"ndim: \",price_array.ndim)\n",
    "print(\"shape: \",price_array.shape)\n",
    "print(\"size: \",price_array.size)\n",
    "print(\"dtype: \",price_array.dtype)"
   ]
  },
  {
   "cell_type": "code",
   "execution_count": 3,
   "id": "531c9a71",
   "metadata": {},
   "outputs": [],
   "source": [
    "#converting nested list to a multi dimensional array.\n",
    "\n",
    "sales =[[0,5,153,200],[0,182,2,4]]\n",
    "sales_array =np.array(sales)"
   ]
  },
  {
   "cell_type": "code",
   "execution_count": 4,
   "id": "25b4cc5b",
   "metadata": {},
   "outputs": [
    {
     "data": {
      "text/plain": [
       "array([[  0,   5, 153, 200],\n",
       "       [  0, 182,   2,   4]])"
      ]
     },
     "execution_count": 4,
     "metadata": {},
     "output_type": "execute_result"
    }
   ],
   "source": [
    "sales_array"
   ]
  },
  {
   "cell_type": "code",
   "execution_count": 5,
   "id": "60f88bdb",
   "metadata": {},
   "outputs": [
    {
     "name": "stdout",
     "output_type": "stream",
     "text": [
      "ndim 2\n",
      "shape (2, 4)\n",
      "size 8\n",
      "dtype: int32\n"
     ]
    }
   ],
   "source": [
    "print(\"ndim\",sales_array.ndim)\n",
    "print(\"shape\",sales_array.shape)\n",
    "print(\"size\",sales_array.size)\n",
    "print(\"dtype:\",sales_array.dtype)\n"
   ]
  },
  {
   "cell_type": "code",
   "execution_count": 6,
   "id": "ac4137ea",
   "metadata": {},
   "outputs": [],
   "source": [
    "array_number = np.array(range(5))"
   ]
  },
  {
   "cell_type": "code",
   "execution_count": 7,
   "id": "f9466b9a",
   "metadata": {},
   "outputs": [
    {
     "data": {
      "text/plain": [
       "array([0, 1, 2, 3, 4])"
      ]
     },
     "execution_count": 7,
     "metadata": {},
     "output_type": "execute_result"
    }
   ],
   "source": [
    "array_number"
   ]
  },
  {
   "cell_type": "code",
   "execution_count": 9,
   "id": "2f30193a",
   "metadata": {},
   "outputs": [
    {
     "data": {
      "text/plain": [
       "array([5, 6, 7, 8, 9])"
      ]
     },
     "execution_count": 9,
     "metadata": {},
     "output_type": "execute_result"
    }
   ],
   "source": [
    "array_number+5"
   ]
  },
  {
   "cell_type": "code",
   "execution_count": 10,
   "id": "a22d4a30",
   "metadata": {},
   "outputs": [],
   "source": [
    "array_2d =np.array([range(5),range(5,10)])"
   ]
  },
  {
   "cell_type": "code",
   "execution_count": 11,
   "id": "439e6647",
   "metadata": {},
   "outputs": [
    {
     "data": {
      "text/plain": [
       "array([[0, 1, 2, 3, 4],\n",
       "       [5, 6, 7, 8, 9]])"
      ]
     },
     "execution_count": 11,
     "metadata": {},
     "output_type": "execute_result"
    }
   ],
   "source": [
    "array_2d"
   ]
  },
  {
   "cell_type": "code",
   "execution_count": 12,
   "id": "9df048c8",
   "metadata": {},
   "outputs": [
    {
     "data": {
      "text/plain": [
       "array([[10, 11, 12, 13, 14],\n",
       "       [15, 16, 17, 18, 19]])"
      ]
     },
     "execution_count": 12,
     "metadata": {},
     "output_type": "execute_result"
    }
   ],
   "source": [
    "array_2d +10  #for the array its not neccessary to loop through the data"
   ]
  },
  {
   "cell_type": "code",
   "execution_count": 13,
   "id": "f10016ca",
   "metadata": {},
   "outputs": [
    {
     "data": {
      "text/plain": [
       "10"
      ]
     },
     "execution_count": 13,
     "metadata": {},
     "output_type": "execute_result"
    }
   ],
   "source": [
    "array_2d.size"
   ]
  },
  {
   "cell_type": "code",
   "execution_count": 14,
   "id": "24afdb39",
   "metadata": {},
   "outputs": [
    {
     "data": {
      "text/plain": [
       "array([[0, 5],\n",
       "       [1, 6],\n",
       "       [2, 7],\n",
       "       [3, 8],\n",
       "       [4, 9]])"
      ]
     },
     "execution_count": 14,
     "metadata": {},
     "output_type": "execute_result"
    }
   ],
   "source": [
    "array_2d.T # transpose the array"
   ]
  },
  {
   "cell_type": "code",
   "execution_count": 15,
   "id": "cc73e4d8",
   "metadata": {},
   "outputs": [
    {
     "data": {
      "text/plain": [
       "2"
      ]
     },
     "execution_count": 15,
     "metadata": {},
     "output_type": "execute_result"
    }
   ],
   "source": [
    "array_2d .ndim\n"
   ]
  },
  {
   "cell_type": "markdown",
   "id": "9998607f",
   "metadata": {},
   "source": [
    "## Assignment 1: Array Basics\n",
    "\n",
    "Hi there,\n",
    "\n",
    "Can you import Numpy and convert the following list comprehension into an array?\n",
    "\n",
    "Once you've done that report the following about the array:\n",
    "* The number of dimensions \n",
    "* The shape\n",
    "* The number of elements in the array\n",
    "* The type of data contained inside"
   ]
  },
  {
   "cell_type": "code",
   "execution_count": 16,
   "id": "57d1c104",
   "metadata": {},
   "outputs": [],
   "source": [
    "my_list = [x * 10 for x in range(1, 11)]"
   ]
  },
  {
   "cell_type": "code",
   "execution_count": 17,
   "id": "44a42e85",
   "metadata": {},
   "outputs": [
    {
     "data": {
      "text/plain": [
       "[10, 20, 30, 40, 50, 60, 70, 80, 90, 100]"
      ]
     },
     "execution_count": 17,
     "metadata": {},
     "output_type": "execute_result"
    }
   ],
   "source": [
    "my_list"
   ]
  },
  {
   "cell_type": "code",
   "execution_count": 18,
   "id": "2373086a",
   "metadata": {},
   "outputs": [],
   "source": [
    "array1 =np.array(my_list)"
   ]
  },
  {
   "cell_type": "code",
   "execution_count": 19,
   "id": "ebf6740d",
   "metadata": {},
   "outputs": [
    {
     "data": {
      "text/plain": [
       "array([ 10,  20,  30,  40,  50,  60,  70,  80,  90, 100])"
      ]
     },
     "execution_count": 19,
     "metadata": {},
     "output_type": "execute_result"
    }
   ],
   "source": [
    "array1"
   ]
  },
  {
   "cell_type": "code",
   "execution_count": 20,
   "id": "06ef5350",
   "metadata": {},
   "outputs": [
    {
     "name": "stdout",
     "output_type": "stream",
     "text": [
      "Number of dimension: 1\n",
      "shape: (10,)\n",
      "No of elements: 10\n",
      "Type of data: int32\n"
     ]
    }
   ],
   "source": [
    "print(\"Number of dimension:\",array1.ndim)\n",
    "print(\"shape:\",array1.shape)\n",
    "print(\"No of elements:\",array1.size)\n",
    "print(\"Type of data:\",array1.dtype)"
   ]
  },
  {
   "cell_type": "code",
   "execution_count": null,
   "id": "ea16234e",
   "metadata": {},
   "outputs": [],
   "source": []
  }
 ],
 "metadata": {
  "kernelspec": {
   "display_name": "Python 3 (ipykernel)",
   "language": "python",
   "name": "python3"
  },
  "language_info": {
   "codemirror_mode": {
    "name": "ipython",
    "version": 3
   },
   "file_extension": ".py",
   "mimetype": "text/x-python",
   "name": "python",
   "nbconvert_exporter": "python",
   "pygments_lexer": "ipython3",
   "version": "3.10.9"
  }
 },
 "nbformat": 4,
 "nbformat_minor": 5
}
