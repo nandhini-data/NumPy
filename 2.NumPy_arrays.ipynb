{
 "cells": [
  {
   "cell_type": "markdown",
   "id": "35644a34",
   "metadata": {},
   "source": [
    "# <center> NumPy Arrays</center>"
   ]
  },
  {
   "cell_type": "markdown",
   "id": "3decd680",
   "metadata": {},
   "source": [
    "**NumPy arrays** are fixed size container of items that are more efficient than python list and tuples for data processing.\n",
    "* They only store single data type.\n",
    "* Array can be one dimensional or multi dimensional.\n",
    "* Array element can be modified,but the array size cannot change."
   ]
  },
  {
   "cell_type": "code",
   "execution_count": 5,
   "id": "225dd8b7",
   "metadata": {},
   "outputs": [
    {
     "data": {
      "text/plain": [
       "array([  1,  10,  23,  89,  45,  32,  43,  55,  67, 100,  12])"
      ]
     },
     "execution_count": 5,
     "metadata": {},
     "output_type": "execute_result"
    }
   ],
   "source": [
    "#NumPy array function convert python list and tuples into numpy array\n",
    "\n",
    "import numpy as np\n",
    "price = [1,10,23,89,45,32,43,55,67,100,12] #Its a list\n",
    "\n",
    "price_array =np.array(price)\n",
    "price_array\n"
   ]
  },
  {
   "cell_type": "markdown",
   "id": "4bf6275d",
   "metadata": {},
   "source": [
    "**Array Properties** are:\n",
    "* **ndim** - the number of dimension in the array.\n",
    "* **shape** - the size of array of each dimension.\n",
    "* **size** - the total number of elements in the array.\n",
    "* **dtype** - the data type of the element in the array."
   ]
  },
  {
   "cell_type": "code",
   "execution_count": 7,
   "id": "1cceb9f0",
   "metadata": {},
   "outputs": [
    {
     "data": {
      "text/plain": [
       "list"
      ]
     },
     "execution_count": 7,
     "metadata": {},
     "output_type": "execute_result"
    }
   ],
   "source": [
    "type(price)"
   ]
  },
  {
   "cell_type": "code",
   "execution_count": 6,
   "id": "ad36ba8e",
   "metadata": {},
   "outputs": [
    {
     "data": {
      "text/plain": [
       "numpy.ndarray"
      ]
     },
     "execution_count": 6,
     "metadata": {},
     "output_type": "execute_result"
    }
   ],
   "source": [
    "type(price_array)"
   ]
  },
  {
   "cell_type": "code",
   "execution_count": 11,
   "id": "8ebd292c",
   "metadata": {},
   "outputs": [
    {
     "name": "stdout",
     "output_type": "stream",
     "text": [
      "ndim:  1\n",
      "shape:  (11,)\n",
      "size:  11\n",
      "dtype:  int32\n"
     ]
    }
   ],
   "source": [
    "print(\"ndim: \",price_array.ndim)\n",
    "print(\"shape: \",price_array.shape)\n",
    "print(\"size: \",price_array.size)\n",
    "print(\"dtype: \",price_array.dtype)"
   ]
  },
  {
   "cell_type": "code",
   "execution_count": null,
   "id": "531c9a71",
   "metadata": {},
   "outputs": [],
   "source": []
  }
 ],
 "metadata": {
  "kernelspec": {
   "display_name": "Python 3 (ipykernel)",
   "language": "python",
   "name": "python3"
  },
  "language_info": {
   "codemirror_mode": {
    "name": "ipython",
    "version": 3
   },
   "file_extension": ".py",
   "mimetype": "text/x-python",
   "name": "python",
   "nbconvert_exporter": "python",
   "pygments_lexer": "ipython3",
   "version": "3.10.9"
  }
 },
 "nbformat": 4,
 "nbformat_minor": 5
}
