{
 "cells": [
  {
   "cell_type": "markdown",
   "id": "8ee03fa9",
   "metadata": {},
   "source": [
    "# <center>Random Number Generation</center>"
   ]
  },
  {
   "cell_type": "markdown",
   "id": "f8c74654",
   "metadata": {},
   "source": [
    "We can create a random number array from the varienty of distribution using NumPy Functions and Methods(useful for sampling and simulation)\n",
    "* default_rng\n",
    "* random\n",
    "* normal"
   ]
  },
  {
   "cell_type": "code",
   "execution_count": 2,
   "id": "90fc83db",
   "metadata": {},
   "outputs": [
    {
     "data": {
      "text/plain": [
       "array([0.22733602, 0.31675834, 0.79736546, 0.67625467, 0.39110955,\n",
       "       0.33281393, 0.59830875, 0.18673419, 0.67275604, 0.94180287,\n",
       "       0.24824571, 0.94888115, 0.66723745, 0.09589794, 0.44183967])"
      ]
     },
     "execution_count": 2,
     "metadata": {},
     "output_type": "execute_result"
    }
   ],
   "source": [
    "from numpy.random import default_rng\n",
    "\n",
    "rng=default_rng(12345)\n",
    "\n",
    "random_number = rng.random(15)#generating 15 random number betweeb 0 to 1\n",
    "random_number"
   ]
  },
  {
   "cell_type": "code",
   "execution_count": 4,
   "id": "44f211e4",
   "metadata": {},
   "outputs": [
    {
     "data": {
      "text/plain": [
       "array([7.08309366, 7.50387879, 4.68247936, 3.54265003, 6.51511554,\n",
       "       6.62580584, 5.73837662, 8.53996624, 5.81407508, 5.86769822,\n",
       "       3.78357107, 6.2719137 , 8.69415553, 6.12228804, 6.1418292 ,\n",
       "       6.86730907, 6.55496732, 7.06050477, 7.07344194, 7.23670003])"
      ]
     },
     "execution_count": 4,
     "metadata": {},
     "output_type": "execute_result"
    }
   ],
   "source": [
    "mean,stdev = 6,2\n",
    "\n",
    "random_normal =rng.normal(mean,stdev,size=20)\n",
    "\n",
    "random_normal"
   ]
  },
  {
   "cell_type": "markdown",
   "id": "c2efa5f5",
   "metadata": {},
   "source": [
    "# Assignment 2: Array Creation\n",
    " \n",
    "\n",
    "Does NumPy have anything like the range() function from base Python?\n",
    "\n",
    "If so: \n",
    "* create the array using a NumPy function. \n",
    "* Make it 5 rows and 2 columns. \n",
    "* It's ok if the datatype is float or int."
   ]
  },
  {
   "cell_type": "code",
   "execution_count": 6,
   "id": "cbe3bf58",
   "metadata": {},
   "outputs": [],
   "source": [
    "import numpy as np\n",
    "array2 = np.arange(10)"
   ]
  },
  {
   "cell_type": "code",
   "execution_count": 7,
   "id": "897554b9",
   "metadata": {},
   "outputs": [
    {
     "data": {
      "text/plain": [
       "array([0, 1, 2, 3, 4, 5, 6, 7, 8, 9])"
      ]
     },
     "execution_count": 7,
     "metadata": {},
     "output_type": "execute_result"
    }
   ],
   "source": [
    "array2"
   ]
  },
  {
   "cell_type": "code",
   "execution_count": 8,
   "id": "fe2a031b",
   "metadata": {},
   "outputs": [
    {
     "data": {
      "text/plain": [
       "array([[0, 1],\n",
       "       [2, 3],\n",
       "       [4, 5],\n",
       "       [6, 7],\n",
       "       [8, 9]])"
      ]
     },
     "execution_count": 8,
     "metadata": {},
     "output_type": "execute_result"
    }
   ],
   "source": [
    "array2.reshape(5,2)"
   ]
  },
  {
   "cell_type": "code",
   "execution_count": 16,
   "id": "80d50fe3",
   "metadata": {},
   "outputs": [],
   "source": [
    "array3 =np.linspace(10,100,10)"
   ]
  },
  {
   "cell_type": "code",
   "execution_count": 17,
   "id": "72ec1b2a",
   "metadata": {},
   "outputs": [
    {
     "data": {
      "text/plain": [
       "10"
      ]
     },
     "execution_count": 17,
     "metadata": {},
     "output_type": "execute_result"
    }
   ],
   "source": [
    "len(array3)"
   ]
  },
  {
   "cell_type": "code",
   "execution_count": 18,
   "id": "c4010b7a",
   "metadata": {},
   "outputs": [
    {
     "data": {
      "text/plain": [
       "array([[ 10.,  20.],\n",
       "       [ 30.,  40.],\n",
       "       [ 50.,  60.],\n",
       "       [ 70.,  80.],\n",
       "       [ 90., 100.]])"
      ]
     },
     "execution_count": 18,
     "metadata": {},
     "output_type": "execute_result"
    }
   ],
   "source": [
    "array3.reshape(5,2)"
   ]
  },
  {
   "cell_type": "markdown",
   "id": "d547dd4b",
   "metadata": {},
   "source": [
    "Can you create a 3x3 array of random numbers between 0 and 1? Use a random state of 2022.\n",
    "\n",
    "Store the random array in a variable called `random_array`."
   ]
  },
  {
   "cell_type": "code",
   "execution_count": 22,
   "id": "8800cca6",
   "metadata": {},
   "outputs": [],
   "source": [
    "random_array =rng.random(9)"
   ]
  },
  {
   "cell_type": "code",
   "execution_count": 23,
   "id": "978e5177",
   "metadata": {},
   "outputs": [
    {
     "data": {
      "text/plain": [
       "array([[0.48276159, 0.21197904, 0.4956306 ],\n",
       "       [0.24626133, 0.83848265, 0.18013059],\n",
       "       [0.86215629, 0.17829944, 0.75053133]])"
      ]
     },
     "execution_count": 23,
     "metadata": {},
     "output_type": "execute_result"
    }
   ],
   "source": [
    "random_array.reshape(3,3)"
   ]
  },
  {
   "cell_type": "code",
   "execution_count": null,
   "id": "bfbb0b4c",
   "metadata": {},
   "outputs": [],
   "source": []
  }
 ],
 "metadata": {
  "kernelspec": {
   "display_name": "Python 3 (ipykernel)",
   "language": "python",
   "name": "python3"
  },
  "language_info": {
   "codemirror_mode": {
    "name": "ipython",
    "version": 3
   },
   "file_extension": ".py",
   "mimetype": "text/x-python",
   "name": "python",
   "nbconvert_exporter": "python",
   "pygments_lexer": "ipython3",
   "version": "3.10.9"
  }
 },
 "nbformat": 4,
 "nbformat_minor": 5
}
