{
 "cells": [
  {
   "cell_type": "markdown",
   "id": "8ee03fa9",
   "metadata": {},
   "source": [
    "# <center>Random Number Generation</center>"
   ]
  },
  {
   "cell_type": "markdown",
   "id": "f8c74654",
   "metadata": {},
   "source": [
    "We can create a random number array from the varienty of distribution using NumPy Functions and Methods(useful for sampling and simulation)\n",
    "* default_rng\n",
    "* random\n",
    "* normal"
   ]
  },
  {
   "cell_type": "code",
   "execution_count": 5,
   "id": "90fc83db",
   "metadata": {},
   "outputs": [
    {
     "data": {
      "text/plain": [
       "array([0.22733602, 0.31675834, 0.79736546, 0.67625467, 0.39110955,\n",
       "       0.33281393, 0.59830875, 0.18673419, 0.67275604, 0.94180287,\n",
       "       0.24824571, 0.94888115, 0.66723745, 0.09589794, 0.44183967])"
      ]
     },
     "execution_count": 5,
     "metadata": {},
     "output_type": "execute_result"
    }
   ],
   "source": [
    "from numpy.random import default_rng\n",
    "\n",
    "rng=default_rng(12345)\n",
    "\n",
    "random_number = rng.random(15)\n",
    "random_number"
   ]
  },
  {
   "cell_type": "code",
   "execution_count": 6,
   "id": "44f211e4",
   "metadata": {},
   "outputs": [
    {
     "data": {
      "text/plain": [
       "array([5.93931048, 6.78884434, 4.74333187, 6.57585751, 7.39897899,\n",
       "       7.32229806, 5.70030148, 6.90291934, 4.37841727, 5.84181074])"
      ]
     },
     "execution_count": 6,
     "metadata": {},
     "output_type": "execute_result"
    }
   ],
   "source": [
    "mean,stdev = 6,1\n",
    "\n",
    "random_normal =rng.normal(mean,stdev,size=10)\n",
    "\n",
    "random_normal"
   ]
  },
  {
   "cell_type": "code",
   "execution_count": null,
   "id": "3dac73cf",
   "metadata": {},
   "outputs": [],
   "source": []
  }
 ],
 "metadata": {
  "kernelspec": {
   "display_name": "Python 3 (ipykernel)",
   "language": "python",
   "name": "python3"
  },
  "language_info": {
   "codemirror_mode": {
    "name": "ipython",
    "version": 3
   },
   "file_extension": ".py",
   "mimetype": "text/x-python",
   "name": "python",
   "nbconvert_exporter": "python",
   "pygments_lexer": "ipython3",
   "version": "3.10.9"
  }
 },
 "nbformat": 4,
 "nbformat_minor": 5
}
