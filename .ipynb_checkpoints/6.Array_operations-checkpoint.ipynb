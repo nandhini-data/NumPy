{
 "cells": [
  {
   "cell_type": "code",
   "execution_count": 3,
   "id": "c6d56f8c",
   "metadata": {},
   "outputs": [],
   "source": [
    "import numpy as np\n",
    "\n",
    "sales = [[1,2,3,4,5,10],[10,10,20,6,8,10]]"
   ]
  },
  {
   "cell_type": "code",
   "execution_count": 4,
   "id": "4f574308",
   "metadata": {},
   "outputs": [],
   "source": [
    "sales_array = np.array(sales)"
   ]
  },
  {
   "cell_type": "code",
   "execution_count": 10,
   "id": "61afda7e",
   "metadata": {},
   "outputs": [],
   "source": [
    "add_number = sales_array + 2"
   ]
  },
  {
   "cell_type": "code",
   "execution_count": 11,
   "id": "1abe8667",
   "metadata": {},
   "outputs": [
    {
     "data": {
      "text/plain": [
       "array([[ 3,  4,  5,  6,  7, 12],\n",
       "       [12, 12, 22,  8, 10, 12]])"
      ]
     },
     "execution_count": 11,
     "metadata": {},
     "output_type": "execute_result"
    }
   ],
   "source": [
    "add_number"
   ]
  },
  {
   "cell_type": "code",
   "execution_count": 7,
   "id": "d828a091",
   "metadata": {},
   "outputs": [],
   "source": [
    "quantity = sales_array[0]\n",
    "price = sales_array[1]"
   ]
  },
  {
   "cell_type": "code",
   "execution_count": 12,
   "id": "18e3fbfd",
   "metadata": {},
   "outputs": [],
   "source": [
    "total_array = quantity * price"
   ]
  },
  {
   "cell_type": "code",
   "execution_count": 13,
   "id": "9ac3a109",
   "metadata": {},
   "outputs": [
    {
     "data": {
      "text/plain": [
       "array([ 10,  20,  60,  24,  40, 100])"
      ]
     },
     "execution_count": 13,
     "metadata": {},
     "output_type": "execute_result"
    }
   ],
   "source": [
    "total_array"
   ]
  },
  {
   "cell_type": "code",
   "execution_count": 14,
   "id": "85be3391",
   "metadata": {},
   "outputs": [],
   "source": [
    "rng = np.random.default_rng(1234)"
   ]
  },
  {
   "cell_type": "code",
   "execution_count": 19,
   "id": "be39456b",
   "metadata": {},
   "outputs": [],
   "source": [
    "random_number = rng.integers(1,100,20)"
   ]
  },
  {
   "cell_type": "code",
   "execution_count": 20,
   "id": "506579d5",
   "metadata": {},
   "outputs": [
    {
     "data": {
      "text/plain": [
       "array([32, 79, 96, 95, 27, 56, 44, 26, 61, 89, 86, 64, 86, 52, 67, 95, 66,\n",
       "        5, 73, 74], dtype=int64)"
      ]
     },
     "execution_count": 20,
     "metadata": {},
     "output_type": "execute_result"
    }
   ],
   "source": [
    "random_number"
   ]
  },
  {
   "cell_type": "code",
   "execution_count": 21,
   "id": "9eb11550",
   "metadata": {},
   "outputs": [
    {
     "data": {
      "text/plain": [
       "array([34, 81, 98, 97, 29, 58, 46, 28, 63, 91, 88, 66, 88, 54, 69, 97, 68,\n",
       "        7, 75, 76], dtype=int64)"
      ]
     },
     "execution_count": 21,
     "metadata": {},
     "output_type": "execute_result"
    }
   ],
   "source": [
    "random_number + 2"
   ]
  },
  {
   "cell_type": "code",
   "execution_count": 22,
   "id": "31f1f356",
   "metadata": {},
   "outputs": [],
   "source": [
    "random_2d = random_number.reshape(2,10)"
   ]
  },
  {
   "cell_type": "code",
   "execution_count": 23,
   "id": "f36d1dec",
   "metadata": {},
   "outputs": [
    {
     "data": {
      "text/plain": [
       "array([[32, 79, 96, 95, 27, 56, 44, 26, 61, 89],\n",
       "       [86, 64, 86, 52, 67, 95, 66,  5, 73, 74]], dtype=int64)"
      ]
     },
     "execution_count": 23,
     "metadata": {},
     "output_type": "execute_result"
    }
   ],
   "source": [
    "random_2d "
   ]
  },
  {
   "cell_type": "code",
   "execution_count": 24,
   "id": "d0b73167",
   "metadata": {},
   "outputs": [],
   "source": [
    "first_row =random_2d[0]\n",
    "second_row=random_2d[1]"
   ]
  },
  {
   "cell_type": "code",
   "execution_count": 25,
   "id": "83ba9ef3",
   "metadata": {},
   "outputs": [],
   "source": [
    "new_array = first_row * second_row"
   ]
  },
  {
   "cell_type": "code",
   "execution_count": 26,
   "id": "6a86925b",
   "metadata": {},
   "outputs": [
    {
     "data": {
      "text/plain": [
       "array([2752, 5056, 8256, 4940, 1809, 5320, 2904,  130, 4453, 6586],\n",
       "      dtype=int64)"
      ]
     },
     "execution_count": 26,
     "metadata": {},
     "output_type": "execute_result"
    }
   ],
   "source": [
    "new_array"
   ]
  },
  {
   "cell_type": "code",
   "execution_count": 27,
   "id": "4c0d06b7",
   "metadata": {},
   "outputs": [
    {
     "data": {
      "text/plain": [
       "42206"
      ]
     },
     "execution_count": 27,
     "metadata": {},
     "output_type": "execute_result"
    }
   ],
   "source": [
    "new_array.sum()"
   ]
  },
  {
   "cell_type": "markdown",
   "id": "b7c78f9a",
   "metadata": {},
   "source": [
    "## Assignment 4: Arithmetic Operations\n",
    "\n",
    "\n",
    "They've asked us to come up with a simple algorithm to provide a random discount to our list of prices below. \n",
    "\n",
    "Before we do that, \n",
    "\n",
    "* Add a 5 dollar shipping fee to each price. Call this array `total`.\n",
    "\n",
    "Once we have that, we want to use the random_array  and apply them to the 6 prices.\n",
    "\n",
    "* Grab the first 6 numbers from `random_array`, reshape it to one dimension. Call this `discount_pct`.\n",
    "* Subtract `discount_pct` FROM 1, store this in `pct_owed`.\n",
    "* Multiply `pct_owed` by `total` to get the final amount owed."
   ]
  },
  {
   "cell_type": "code",
   "execution_count": 28,
   "id": "624bd6f8",
   "metadata": {},
   "outputs": [],
   "source": [
    "prices = np.array([5.99, 6.99, 22.49, 99.99, 4.99, 49.99])\n"
   ]
  },
  {
   "cell_type": "code",
   "execution_count": 29,
   "id": "d4769de1",
   "metadata": {},
   "outputs": [],
   "source": [
    "total = prices+5"
   ]
  },
  {
   "cell_type": "code",
   "execution_count": 30,
   "id": "bf310ce7",
   "metadata": {},
   "outputs": [
    {
     "data": {
      "text/plain": [
       "array([ 10.99,  11.99,  27.49, 104.99,   9.99,  54.99])"
      ]
     },
     "execution_count": 30,
     "metadata": {},
     "output_type": "execute_result"
    }
   ],
   "source": [
    "total"
   ]
  },
  {
   "cell_type": "code",
   "execution_count": 49,
   "id": "0db2c46b",
   "metadata": {},
   "outputs": [],
   "source": [
    "discount_pct =random_2d[0,:6]"
   ]
  },
  {
   "cell_type": "code",
   "execution_count": 50,
   "id": "fc8cb652",
   "metadata": {},
   "outputs": [
    {
     "data": {
      "text/plain": [
       "array([32, 79, 96, 95, 27, 56], dtype=int64)"
      ]
     },
     "execution_count": 50,
     "metadata": {},
     "output_type": "execute_result"
    }
   ],
   "source": [
    "discount_pct"
   ]
  },
  {
   "cell_type": "code",
   "execution_count": 51,
   "id": "32e868da",
   "metadata": {},
   "outputs": [],
   "source": [
    "pct_owed =discount_pct - 1"
   ]
  },
  {
   "cell_type": "code",
   "execution_count": 52,
   "id": "61f8e859",
   "metadata": {},
   "outputs": [
    {
     "data": {
      "text/plain": [
       "array([31, 78, 95, 94, 26, 55], dtype=int64)"
      ]
     },
     "execution_count": 52,
     "metadata": {},
     "output_type": "execute_result"
    }
   ],
   "source": [
    "pct_owed"
   ]
  },
  {
   "cell_type": "code",
   "execution_count": 53,
   "id": "c6447b90",
   "metadata": {},
   "outputs": [],
   "source": [
    "final_amount =total * pct_owed"
   ]
  },
  {
   "cell_type": "code",
   "execution_count": 56,
   "id": "4ba879ad",
   "metadata": {},
   "outputs": [
    {
     "data": {
      "text/plain": [
       "array([ 340.7,  935.2, 2611.5, 9869.1,  259.7, 3024.5])"
      ]
     },
     "execution_count": 56,
     "metadata": {},
     "output_type": "execute_result"
    }
   ],
   "source": [
    "final_amount.round(1)"
   ]
  },
  {
   "cell_type": "code",
   "execution_count": null,
   "id": "c504b5a3",
   "metadata": {},
   "outputs": [],
   "source": []
  }
 ],
 "metadata": {
  "kernelspec": {
   "display_name": "Python 3 (ipykernel)",
   "language": "python",
   "name": "python3"
  },
  "language_info": {
   "codemirror_mode": {
    "name": "ipython",
    "version": 3
   },
   "file_extension": ".py",
   "mimetype": "text/x-python",
   "name": "python",
   "nbconvert_exporter": "python",
   "pygments_lexer": "ipython3",
   "version": "3.10.9"
  }
 },
 "nbformat": 4,
 "nbformat_minor": 5
}
