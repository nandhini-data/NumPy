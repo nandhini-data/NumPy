{
 "cells": [
  {
   "cell_type": "markdown",
   "id": "b789a4a2",
   "metadata": {},
   "source": [
    "# <center> Array operations</center>"
   ]
  },
  {
   "cell_type": "markdown",
   "id": "a5d664c5",
   "metadata": {},
   "source": [
    "* [<span style='color:purple'>Assignment 4: Arithmetic Operations](#Assignment-4:-Arithmetic-Operations)\n",
    "* [<span style='color:purple'>**Filtering and modifying array**](#Filtering-and-modifying-array)\n",
    "* [<span style='color:purple'>**Where function**](#Where-function)\n",
    "* [<span style='color:purple'>Assignment 5: Filtering Arrays](#Assignment-5:-Filtering-Arrays)\n",
    "* [<span style='color:purple'>**Array aggregation method**](#Array-aggregation-method)\n",
    "* [<span style='color:purple'>**Array functions**](#Array-functions)"
   ]
  },
  {
   "cell_type": "code",
   "execution_count": 3,
   "id": "c6d56f8c",
   "metadata": {},
   "outputs": [],
   "source": [
    "import numpy as np\n",
    "\n",
    "sales = [[1,2,3,4,5,10],[10,10,20,6,8,10]]"
   ]
  },
  {
   "cell_type": "code",
   "execution_count": 4,
   "id": "4f574308",
   "metadata": {},
   "outputs": [],
   "source": [
    "sales_array = np.array(sales)"
   ]
  },
  {
   "cell_type": "code",
   "execution_count": 10,
   "id": "61afda7e",
   "metadata": {},
   "outputs": [],
   "source": [
    "add_number = sales_array + 2"
   ]
  },
  {
   "cell_type": "code",
   "execution_count": 11,
   "id": "1abe8667",
   "metadata": {},
   "outputs": [
    {
     "data": {
      "text/plain": [
       "array([[ 3,  4,  5,  6,  7, 12],\n",
       "       [12, 12, 22,  8, 10, 12]])"
      ]
     },
     "execution_count": 11,
     "metadata": {},
     "output_type": "execute_result"
    }
   ],
   "source": [
    "add_number"
   ]
  },
  {
   "cell_type": "code",
   "execution_count": 7,
   "id": "d828a091",
   "metadata": {},
   "outputs": [],
   "source": [
    "quantity = sales_array[0]\n",
    "price = sales_array[1]"
   ]
  },
  {
   "cell_type": "code",
   "execution_count": 12,
   "id": "18e3fbfd",
   "metadata": {},
   "outputs": [],
   "source": [
    "total_array = quantity * price"
   ]
  },
  {
   "cell_type": "code",
   "execution_count": 13,
   "id": "9ac3a109",
   "metadata": {},
   "outputs": [
    {
     "data": {
      "text/plain": [
       "array([ 10,  20,  60,  24,  40, 100])"
      ]
     },
     "execution_count": 13,
     "metadata": {},
     "output_type": "execute_result"
    }
   ],
   "source": [
    "total_array"
   ]
  },
  {
   "cell_type": "code",
   "execution_count": 14,
   "id": "85be3391",
   "metadata": {},
   "outputs": [],
   "source": [
    "rng = np.random.default_rng(1234)"
   ]
  },
  {
   "cell_type": "code",
   "execution_count": 19,
   "id": "be39456b",
   "metadata": {},
   "outputs": [],
   "source": [
    "random_number = rng.integers(1,100,20)"
   ]
  },
  {
   "cell_type": "code",
   "execution_count": 20,
   "id": "506579d5",
   "metadata": {},
   "outputs": [
    {
     "data": {
      "text/plain": [
       "array([32, 79, 96, 95, 27, 56, 44, 26, 61, 89, 86, 64, 86, 52, 67, 95, 66,\n",
       "        5, 73, 74], dtype=int64)"
      ]
     },
     "execution_count": 20,
     "metadata": {},
     "output_type": "execute_result"
    }
   ],
   "source": [
    "random_number"
   ]
  },
  {
   "cell_type": "code",
   "execution_count": 21,
   "id": "9eb11550",
   "metadata": {},
   "outputs": [
    {
     "data": {
      "text/plain": [
       "array([34, 81, 98, 97, 29, 58, 46, 28, 63, 91, 88, 66, 88, 54, 69, 97, 68,\n",
       "        7, 75, 76], dtype=int64)"
      ]
     },
     "execution_count": 21,
     "metadata": {},
     "output_type": "execute_result"
    }
   ],
   "source": [
    "random_number + 2"
   ]
  },
  {
   "cell_type": "code",
   "execution_count": 22,
   "id": "31f1f356",
   "metadata": {},
   "outputs": [],
   "source": [
    "random_2d = random_number.reshape(2,10)"
   ]
  },
  {
   "cell_type": "code",
   "execution_count": 23,
   "id": "f36d1dec",
   "metadata": {},
   "outputs": [
    {
     "data": {
      "text/plain": [
       "array([[32, 79, 96, 95, 27, 56, 44, 26, 61, 89],\n",
       "       [86, 64, 86, 52, 67, 95, 66,  5, 73, 74]], dtype=int64)"
      ]
     },
     "execution_count": 23,
     "metadata": {},
     "output_type": "execute_result"
    }
   ],
   "source": [
    "random_2d "
   ]
  },
  {
   "cell_type": "code",
   "execution_count": 24,
   "id": "d0b73167",
   "metadata": {},
   "outputs": [],
   "source": [
    "first_row =random_2d[0]\n",
    "second_row=random_2d[1]"
   ]
  },
  {
   "cell_type": "code",
   "execution_count": 25,
   "id": "83ba9ef3",
   "metadata": {},
   "outputs": [],
   "source": [
    "new_array = first_row * second_row"
   ]
  },
  {
   "cell_type": "code",
   "execution_count": 26,
   "id": "6a86925b",
   "metadata": {},
   "outputs": [
    {
     "data": {
      "text/plain": [
       "array([2752, 5056, 8256, 4940, 1809, 5320, 2904,  130, 4453, 6586],\n",
       "      dtype=int64)"
      ]
     },
     "execution_count": 26,
     "metadata": {},
     "output_type": "execute_result"
    }
   ],
   "source": [
    "new_array"
   ]
  },
  {
   "cell_type": "code",
   "execution_count": 27,
   "id": "4c0d06b7",
   "metadata": {},
   "outputs": [
    {
     "data": {
      "text/plain": [
       "42206"
      ]
     },
     "execution_count": 27,
     "metadata": {},
     "output_type": "execute_result"
    }
   ],
   "source": [
    "new_array.sum()"
   ]
  },
  {
   "cell_type": "markdown",
   "id": "b7c78f9a",
   "metadata": {},
   "source": [
    "## Assignment 4: Arithmetic Operations\n",
    "\n",
    "\n",
    "They've asked us to come up with a simple algorithm to provide a random discount to our list of prices below. \n",
    "\n",
    "Before we do that, \n",
    "\n",
    "* Add a 5 dollar shipping fee to each price. Call this array `total`.\n",
    "\n",
    "Once we have that, we want to use the random_array  and apply them to the 6 prices.\n",
    "\n",
    "* Grab the first 6 numbers from `random_array`, reshape it to one dimension. Call this `discount_pct`.\n",
    "* Subtract `discount_pct` FROM 1, store this in `pct_owed`.\n",
    "* Multiply `pct_owed` by `total` to get the final amount owed."
   ]
  },
  {
   "cell_type": "code",
   "execution_count": 28,
   "id": "624bd6f8",
   "metadata": {},
   "outputs": [],
   "source": [
    "prices = np.array([5.99, 6.99, 22.49, 99.99, 4.99, 49.99])\n"
   ]
  },
  {
   "cell_type": "code",
   "execution_count": 29,
   "id": "d4769de1",
   "metadata": {},
   "outputs": [],
   "source": [
    "total = prices+5"
   ]
  },
  {
   "cell_type": "code",
   "execution_count": 30,
   "id": "bf310ce7",
   "metadata": {},
   "outputs": [
    {
     "data": {
      "text/plain": [
       "array([ 10.99,  11.99,  27.49, 104.99,   9.99,  54.99])"
      ]
     },
     "execution_count": 30,
     "metadata": {},
     "output_type": "execute_result"
    }
   ],
   "source": [
    "total"
   ]
  },
  {
   "cell_type": "code",
   "execution_count": 49,
   "id": "0db2c46b",
   "metadata": {},
   "outputs": [],
   "source": [
    "discount_pct =random_2d[0,:6]"
   ]
  },
  {
   "cell_type": "code",
   "execution_count": 50,
   "id": "fc8cb652",
   "metadata": {},
   "outputs": [
    {
     "data": {
      "text/plain": [
       "array([32, 79, 96, 95, 27, 56], dtype=int64)"
      ]
     },
     "execution_count": 50,
     "metadata": {},
     "output_type": "execute_result"
    }
   ],
   "source": [
    "discount_pct"
   ]
  },
  {
   "cell_type": "code",
   "execution_count": 51,
   "id": "32e868da",
   "metadata": {},
   "outputs": [],
   "source": [
    "pct_owed =discount_pct - 1"
   ]
  },
  {
   "cell_type": "code",
   "execution_count": 52,
   "id": "61f8e859",
   "metadata": {},
   "outputs": [
    {
     "data": {
      "text/plain": [
       "array([31, 78, 95, 94, 26, 55], dtype=int64)"
      ]
     },
     "execution_count": 52,
     "metadata": {},
     "output_type": "execute_result"
    }
   ],
   "source": [
    "pct_owed"
   ]
  },
  {
   "cell_type": "code",
   "execution_count": 53,
   "id": "c6447b90",
   "metadata": {},
   "outputs": [],
   "source": [
    "final_amount =total * pct_owed"
   ]
  },
  {
   "cell_type": "code",
   "execution_count": 56,
   "id": "4ba879ad",
   "metadata": {},
   "outputs": [
    {
     "data": {
      "text/plain": [
       "array([ 340.7,  935.2, 2611.5, 9869.1,  259.7, 3024.5])"
      ]
     },
     "execution_count": 56,
     "metadata": {},
     "output_type": "execute_result"
    }
   ],
   "source": [
    "final_amount.round(1)"
   ]
  },
  {
   "cell_type": "markdown",
   "id": "74820489",
   "metadata": {},
   "source": [
    "## Filtering and modifying array"
   ]
  },
  {
   "cell_type": "code",
   "execution_count": 5,
   "id": "65bddf19",
   "metadata": {},
   "outputs": [],
   "source": [
    "import numpy as np"
   ]
  },
  {
   "cell_type": "code",
   "execution_count": 6,
   "id": "104469b9",
   "metadata": {},
   "outputs": [],
   "source": [
    "sales =[[10,11,12,34,0],[11,23,0,4,6]]"
   ]
  },
  {
   "cell_type": "code",
   "execution_count": 7,
   "id": "2709d2d5",
   "metadata": {},
   "outputs": [],
   "source": [
    "sales_array =np.array(sales)"
   ]
  },
  {
   "cell_type": "code",
   "execution_count": 8,
   "id": "6612f31c",
   "metadata": {},
   "outputs": [
    {
     "data": {
      "text/plain": [
       "array([[10, 11, 12, 34,  0],\n",
       "       [11, 23,  0,  4,  6]])"
      ]
     },
     "execution_count": 8,
     "metadata": {},
     "output_type": "execute_result"
    }
   ],
   "source": [
    "sales_array"
   ]
  },
  {
   "cell_type": "code",
   "execution_count": 9,
   "id": "d72fbf01",
   "metadata": {},
   "outputs": [
    {
     "data": {
      "text/plain": [
       "array([[ True,  True,  True,  True, False],\n",
       "       [ True,  True, False,  True,  True]])"
      ]
     },
     "execution_count": 9,
     "metadata": {},
     "output_type": "execute_result"
    }
   ],
   "source": [
    "sales_array != 0"
   ]
  },
  {
   "cell_type": "code",
   "execution_count": 10,
   "id": "f7cb4184",
   "metadata": {},
   "outputs": [
    {
     "data": {
      "text/plain": [
       "array([10, 11, 12, 11, 23,  6])"
      ]
     },
     "execution_count": 10,
     "metadata": {},
     "output_type": "execute_result"
    }
   ],
   "source": [
    "sales_array[(sales_array > 5) & (sales_array <30)]"
   ]
  },
  {
   "cell_type": "code",
   "execution_count": 11,
   "id": "1e586ee4",
   "metadata": {},
   "outputs": [],
   "source": [
    "mask =(sales_array>10) & (sales_array<35)"
   ]
  },
  {
   "cell_type": "code",
   "execution_count": 12,
   "id": "90faa6df",
   "metadata": {},
   "outputs": [
    {
     "data": {
      "text/plain": [
       "array([11, 12, 34, 11, 23])"
      ]
     },
     "execution_count": 12,
     "metadata": {},
     "output_type": "execute_result"
    }
   ],
   "source": [
    "sales_array[mask]"
   ]
  },
  {
   "cell_type": "code",
   "execution_count": 13,
   "id": "bbee4c9b",
   "metadata": {},
   "outputs": [
    {
     "data": {
      "text/plain": [
       "array([[10, 11, 12, 34,  0],\n",
       "       [11, 23,  0,  4,  6]])"
      ]
     },
     "execution_count": 13,
     "metadata": {},
     "output_type": "execute_result"
    }
   ],
   "source": [
    "sales_array"
   ]
  },
  {
   "cell_type": "code",
   "execution_count": 15,
   "id": "0140ab92",
   "metadata": {},
   "outputs": [],
   "source": [
    "sales_elements= sales_array[1]"
   ]
  },
  {
   "cell_type": "code",
   "execution_count": 16,
   "id": "b7a853c9",
   "metadata": {},
   "outputs": [
    {
     "data": {
      "text/plain": [
       "array([11, 23,  0,  4,  6])"
      ]
     },
     "execution_count": 16,
     "metadata": {},
     "output_type": "execute_result"
    }
   ],
   "source": [
    "#filtering the array based on the value in other array\n",
    "\n",
    "sales_elements"
   ]
  },
  {
   "cell_type": "code",
   "execution_count": 17,
   "id": "f37414e2",
   "metadata": {},
   "outputs": [],
   "source": [
    "product_element =np.array(['fruits','vegetables','cereals','diary','egg'])"
   ]
  },
  {
   "cell_type": "code",
   "execution_count": 18,
   "id": "8bd33b24",
   "metadata": {},
   "outputs": [
    {
     "data": {
      "text/plain": [
       "array(['fruits', 'vegetables', 'cereals', 'diary', 'egg'], dtype='<U10')"
      ]
     },
     "execution_count": 18,
     "metadata": {},
     "output_type": "execute_result"
    }
   ],
   "source": [
    "product_element"
   ]
  },
  {
   "cell_type": "code",
   "execution_count": 20,
   "id": "4613a432",
   "metadata": {},
   "outputs": [
    {
     "data": {
      "text/plain": [
       "array(['fruits', 'vegetables', 'diary', 'egg'], dtype='<U10')"
      ]
     },
     "execution_count": 20,
     "metadata": {},
     "output_type": "execute_result"
    }
   ],
   "source": [
    "product_element[sales_elements>0]"
   ]
  },
  {
   "cell_type": "code",
   "execution_count": 21,
   "id": "46c039c9",
   "metadata": {},
   "outputs": [],
   "source": [
    "#return true if the number is even \n",
    "\n",
    "number_array =np.arange(20)"
   ]
  },
  {
   "cell_type": "code",
   "execution_count": 22,
   "id": "36d43cba",
   "metadata": {},
   "outputs": [
    {
     "data": {
      "text/plain": [
       "array([ 0,  1,  2,  3,  4,  5,  6,  7,  8,  9, 10, 11, 12, 13, 14, 15, 16,\n",
       "       17, 18, 19])"
      ]
     },
     "execution_count": 22,
     "metadata": {},
     "output_type": "execute_result"
    }
   ],
   "source": [
    "number_array"
   ]
  },
  {
   "cell_type": "code",
   "execution_count": 23,
   "id": "50f4a4b6",
   "metadata": {},
   "outputs": [
    {
     "data": {
      "text/plain": [
       "array([ True, False,  True, False,  True, False,  True, False,  True,\n",
       "       False,  True, False,  True, False,  True, False,  True, False,\n",
       "        True, False])"
      ]
     },
     "execution_count": 23,
     "metadata": {},
     "output_type": "execute_result"
    }
   ],
   "source": [
    "number_array % 2==0"
   ]
  },
  {
   "cell_type": "code",
   "execution_count": 25,
   "id": "c83c2945",
   "metadata": {},
   "outputs": [
    {
     "data": {
      "text/plain": [
       "array([ 0,  2,  4,  6,  8, 10, 12, 14, 16, 18])"
      ]
     },
     "execution_count": 25,
     "metadata": {},
     "output_type": "execute_result"
    }
   ],
   "source": [
    "number_array[number_array%2==0]"
   ]
  },
  {
   "cell_type": "markdown",
   "id": "6b4236a7",
   "metadata": {},
   "source": [
    "## Where function"
   ]
  },
  {
   "cell_type": "markdown",
   "id": "0cfff759",
   "metadata": {},
   "source": [
    "where() function perform logical test and return a given value if the test is true or another if the test is false."
   ]
  },
  {
   "cell_type": "code",
   "execution_count": 28,
   "id": "694efd60",
   "metadata": {},
   "outputs": [
    {
     "data": {
      "text/plain": [
       "array([ 12, 102,  12,   0,   0])"
      ]
     },
     "execution_count": 28,
     "metadata": {},
     "output_type": "execute_result"
    }
   ],
   "source": [
    "inventory_array=np.array([12,102,12,0,0])\n",
    "inventory_array"
   ]
  },
  {
   "cell_type": "code",
   "execution_count": 27,
   "id": "47300677",
   "metadata": {},
   "outputs": [
    {
     "data": {
      "text/plain": [
       "array(['fruits', 'vegetables', 'cereals', 'diary', 'egg'], dtype='<U10')"
      ]
     },
     "execution_count": 27,
     "metadata": {},
     "output_type": "execute_result"
    }
   ],
   "source": [
    "product_element"
   ]
  },
  {
   "cell_type": "code",
   "execution_count": 29,
   "id": "93c1255c",
   "metadata": {},
   "outputs": [
    {
     "data": {
      "text/plain": [
       "array(['in stock', 'in stock', 'in stock', 'out of stock', 'out of stock'],\n",
       "      dtype='<U12')"
      ]
     },
     "execution_count": 29,
     "metadata": {},
     "output_type": "execute_result"
    }
   ],
   "source": [
    "np.where(inventory_array>0,\"in stock\",\"out of stock\")"
   ]
  },
  {
   "cell_type": "code",
   "execution_count": 31,
   "id": "48b6f9e2",
   "metadata": {},
   "outputs": [
    {
     "data": {
      "text/plain": [
       "array(['fruits', 'vegetables', 'cereals', 'out of stock', 'out of stock'],\n",
       "      dtype='<U12')"
      ]
     },
     "execution_count": 31,
     "metadata": {},
     "output_type": "execute_result"
    }
   ],
   "source": [
    "np.where(inventory_array>0,product_element,'out of stock')"
   ]
  },
  {
   "cell_type": "markdown",
   "id": "2670dee1",
   "metadata": {},
   "source": [
    "##  Assignment 5: Filtering Arrays\n",
    "\n",
    "Filter the product array to only include those with prices greater than 25.\n",
    "\n",
    "Modify your logic to include cola, despite it not having a price greater than 25. \n",
    "Store the elements returned in an array called `fancy_feast_special`.\n",
    "\n",
    "Next, create a shipping cost array where the cost is 0 if price is greater than 20, and 5 if not. "
   ]
  },
  {
   "cell_type": "code",
   "execution_count": 33,
   "id": "36e503e0",
   "metadata": {},
   "outputs": [
    {
     "data": {
      "text/plain": [
       "array(['salad', 'bread', 'mustard', 'rare tomato', 'cola',\n",
       "       'gourmet ice cream'], dtype='<U17')"
      ]
     },
     "execution_count": 33,
     "metadata": {},
     "output_type": "execute_result"
    }
   ],
   "source": [
    "products = np.array(\n",
    "    [\"salad\", \"bread\", \"mustard\", \"rare tomato\", \"cola\", \"gourmet ice cream\"]\n",
    ")\n",
    "\n",
    "products"
   ]
  },
  {
   "cell_type": "code",
   "execution_count": 36,
   "id": "ee42e41c",
   "metadata": {},
   "outputs": [],
   "source": [
    "price_array = np.array([12,24,35,24,20,33])"
   ]
  },
  {
   "cell_type": "code",
   "execution_count": 39,
   "id": "aedfa403",
   "metadata": {},
   "outputs": [
    {
     "data": {
      "text/plain": [
       "array(['mustard', 'gourmet ice cream'], dtype='<U17')"
      ]
     },
     "execution_count": 39,
     "metadata": {},
     "output_type": "execute_result"
    }
   ],
   "source": [
    "# filter the product array those with prices greater than 25\n",
    "products[(price_array>25)]"
   ]
  },
  {
   "cell_type": "code",
   "execution_count": 40,
   "id": "31cea0e8",
   "metadata": {},
   "outputs": [],
   "source": [
    "fancy_feast_special = products[(price_array >25) | (products =='cola')]"
   ]
  },
  {
   "cell_type": "code",
   "execution_count": 41,
   "id": "c4fb2fcc",
   "metadata": {},
   "outputs": [
    {
     "data": {
      "text/plain": [
       "array(['mustard', 'cola', 'gourmet ice cream'], dtype='<U17')"
      ]
     },
     "execution_count": 41,
     "metadata": {},
     "output_type": "execute_result"
    }
   ],
   "source": [
    "fancy_feast_special"
   ]
  },
  {
   "cell_type": "code",
   "execution_count": 42,
   "id": "6d9432a7",
   "metadata": {},
   "outputs": [],
   "source": [
    "shipping_cost_array =np.where(price_array>20,0,5)"
   ]
  },
  {
   "cell_type": "code",
   "execution_count": 43,
   "id": "71bdf4f0",
   "metadata": {},
   "outputs": [
    {
     "data": {
      "text/plain": [
       "array([5, 0, 0, 0, 5, 0])"
      ]
     },
     "execution_count": 43,
     "metadata": {},
     "output_type": "execute_result"
    }
   ],
   "source": [
    "shipping_cost_array"
   ]
  },
  {
   "cell_type": "code",
   "execution_count": 14,
   "id": "8f009b50",
   "metadata": {},
   "outputs": [
    {
     "data": {
      "text/plain": [
       "array([[10, 11, 12, 34,  0],\n",
       "       [11, 23,  0,  4,  6]])"
      ]
     },
     "execution_count": 14,
     "metadata": {},
     "output_type": "execute_result"
    }
   ],
   "source": [
    "sales_array"
   ]
  },
  {
   "cell_type": "markdown",
   "id": "6b3bd6d1",
   "metadata": {},
   "source": [
    "## Array aggregation method"
   ]
  },
  {
   "cell_type": "code",
   "execution_count": 15,
   "id": "2e1e287a",
   "metadata": {},
   "outputs": [
    {
     "data": {
      "text/plain": [
       "111"
      ]
     },
     "execution_count": 15,
     "metadata": {},
     "output_type": "execute_result"
    }
   ],
   "source": [
    "sales_array.sum()"
   ]
  },
  {
   "cell_type": "code",
   "execution_count": 16,
   "id": "868cc39c",
   "metadata": {},
   "outputs": [
    {
     "data": {
      "text/plain": [
       "0"
      ]
     },
     "execution_count": 16,
     "metadata": {},
     "output_type": "execute_result"
    }
   ],
   "source": [
    "sales_array.min()"
   ]
  },
  {
   "cell_type": "code",
   "execution_count": 17,
   "id": "643ef924",
   "metadata": {},
   "outputs": [
    {
     "data": {
      "text/plain": [
       "34"
      ]
     },
     "execution_count": 17,
     "metadata": {},
     "output_type": "execute_result"
    }
   ],
   "source": [
    "sales_array.max()"
   ]
  },
  {
   "cell_type": "code",
   "execution_count": 18,
   "id": "1a8149ac",
   "metadata": {},
   "outputs": [
    {
     "data": {
      "text/plain": [
       "11.1"
      ]
     },
     "execution_count": 18,
     "metadata": {},
     "output_type": "execute_result"
    }
   ],
   "source": [
    "sales_array.mean()"
   ]
  },
  {
   "cell_type": "code",
   "execution_count": 22,
   "id": "d1eae11e",
   "metadata": {},
   "outputs": [
    {
     "data": {
      "text/plain": [
       "array([[10, 11, 12, 34,  0],\n",
       "       [11, 23,  0,  4,  6]])"
      ]
     },
     "execution_count": 22,
     "metadata": {},
     "output_type": "execute_result"
    }
   ],
   "source": [
    "sales_array"
   ]
  },
  {
   "cell_type": "code",
   "execution_count": 20,
   "id": "7578d98b",
   "metadata": {},
   "outputs": [
    {
     "data": {
      "text/plain": [
       "array([21, 34, 12, 38,  6])"
      ]
     },
     "execution_count": 20,
     "metadata": {},
     "output_type": "execute_result"
    }
   ],
   "source": [
    "sales_array.sum(axis = 0)#collapse the row and perform sum \n",
    "                        #operation column wise"
   ]
  },
  {
   "cell_type": "code",
   "execution_count": 21,
   "id": "2be6c5ee",
   "metadata": {},
   "outputs": [
    {
     "data": {
      "text/plain": [
       "array([67, 44])"
      ]
     },
     "execution_count": 21,
     "metadata": {},
     "output_type": "execute_result"
    }
   ],
   "source": [
    "sales_array.sum(axis=1)#collapse the column and perform sum \n",
    "                        #operation row wise"
   ]
  },
  {
   "cell_type": "code",
   "execution_count": 39,
   "id": "29d11cac",
   "metadata": {},
   "outputs": [],
   "source": [
    "rng =np.random.default_rng(612)"
   ]
  },
  {
   "cell_type": "code",
   "execution_count": 41,
   "id": "409e745f",
   "metadata": {},
   "outputs": [],
   "source": [
    "price_array =rng.integers(1,100,10)"
   ]
  },
  {
   "cell_type": "code",
   "execution_count": 42,
   "id": "ed0d5b40",
   "metadata": {},
   "outputs": [
    {
     "data": {
      "text/plain": [
       "array([69, 16, 49, 31, 27, 64, 96, 23, 41, 52], dtype=int64)"
      ]
     },
     "execution_count": 42,
     "metadata": {},
     "output_type": "execute_result"
    }
   ],
   "source": [
    "price_array"
   ]
  },
  {
   "cell_type": "code",
   "execution_count": 46,
   "id": "34e47296",
   "metadata": {},
   "outputs": [],
   "source": [
    "price_array1 = price_array.reshape(2,5)"
   ]
  },
  {
   "cell_type": "code",
   "execution_count": null,
   "id": "146ad428",
   "metadata": {},
   "outputs": [],
   "source": [
    "price_array1"
   ]
  },
  {
   "cell_type": "code",
   "execution_count": 49,
   "id": "a72dca86",
   "metadata": {},
   "outputs": [
    {
     "data": {
      "text/plain": [
       "array([[ 690,  176,  588, 1054,    0],\n",
       "       [ 704, 2208,    0,  164,  312]], dtype=int64)"
      ]
     },
     "execution_count": 49,
     "metadata": {},
     "output_type": "execute_result"
    }
   ],
   "source": [
    "total = sales_array * price_array1\n",
    "total"
   ]
  },
  {
   "cell_type": "code",
   "execution_count": 50,
   "id": "e81fde36",
   "metadata": {},
   "outputs": [
    {
     "data": {
      "text/plain": [
       "0"
      ]
     },
     "execution_count": 50,
     "metadata": {},
     "output_type": "execute_result"
    }
   ],
   "source": [
    "total.min()"
   ]
  },
  {
   "cell_type": "code",
   "execution_count": 51,
   "id": "b075b10a",
   "metadata": {},
   "outputs": [
    {
     "data": {
      "text/plain": [
       "2208"
      ]
     },
     "execution_count": 51,
     "metadata": {},
     "output_type": "execute_result"
    }
   ],
   "source": [
    "total.max()"
   ]
  },
  {
   "cell_type": "code",
   "execution_count": 52,
   "id": "3debf195",
   "metadata": {},
   "outputs": [
    {
     "data": {
      "text/plain": [
       "array([1394, 2384,  588, 1218,  312], dtype=int64)"
      ]
     },
     "execution_count": 52,
     "metadata": {},
     "output_type": "execute_result"
    }
   ],
   "source": [
    "total.sum(axis=0)"
   ]
  },
  {
   "cell_type": "code",
   "execution_count": 53,
   "id": "2a7e6ee7",
   "metadata": {},
   "outputs": [
    {
     "data": {
      "text/plain": [
       "array([2508, 3388], dtype=int64)"
      ]
     },
     "execution_count": 53,
     "metadata": {},
     "output_type": "execute_result"
    }
   ],
   "source": [
    "total.sum(axis=1)"
   ]
  },
  {
   "cell_type": "markdown",
   "id": "81dffbce",
   "metadata": {},
   "source": [
    "## Array functions"
   ]
  },
  {
   "cell_type": "code",
   "execution_count": 54,
   "id": "6b49771a",
   "metadata": {},
   "outputs": [],
   "source": [
    "cost =np.array([2.6,7.2,6.92,3.88,0.78,2.67,8.87,0.23,5.23,6.3])"
   ]
  },
  {
   "cell_type": "code",
   "execution_count": 55,
   "id": "d4b19484",
   "metadata": {},
   "outputs": [
    {
     "data": {
      "text/plain": [
       "10"
      ]
     },
     "execution_count": 55,
     "metadata": {},
     "output_type": "execute_result"
    }
   ],
   "source": [
    "len(cost)"
   ]
  },
  {
   "cell_type": "code",
   "execution_count": 56,
   "id": "26fd473f",
   "metadata": {},
   "outputs": [],
   "source": [
    "inventory =np.array([79,22,20,48,8,76,12,16,5,64])"
   ]
  },
  {
   "cell_type": "code",
   "execution_count": 57,
   "id": "d6620fc1",
   "metadata": {},
   "outputs": [
    {
     "data": {
      "text/plain": [
       "10"
      ]
     },
     "execution_count": 57,
     "metadata": {},
     "output_type": "execute_result"
    }
   ],
   "source": [
    "len(inventory)"
   ]
  },
  {
   "cell_type": "code",
   "execution_count": 59,
   "id": "51d21779",
   "metadata": {},
   "outputs": [],
   "source": [
    "product_price =cost*inventory"
   ]
  },
  {
   "cell_type": "code",
   "execution_count": 60,
   "id": "7f08cc6a",
   "metadata": {},
   "outputs": [
    {
     "data": {
      "text/plain": [
       "array([205.4 , 158.4 , 138.4 , 186.24,   6.24, 202.92, 106.44,   3.68,\n",
       "        26.15, 403.2 ])"
      ]
     },
     "execution_count": 60,
     "metadata": {},
     "output_type": "execute_result"
    }
   ],
   "source": [
    "product_price"
   ]
  },
  {
   "cell_type": "code",
   "execution_count": 61,
   "id": "e84fee94",
   "metadata": {},
   "outputs": [],
   "source": [
    "reshape_product=product_price.reshape(5,2)"
   ]
  },
  {
   "cell_type": "code",
   "execution_count": 62,
   "id": "84ae934d",
   "metadata": {},
   "outputs": [
    {
     "data": {
      "text/plain": [
       "array([[205.4 , 158.4 ],\n",
       "       [138.4 , 186.24],\n",
       "       [  6.24, 202.92],\n",
       "       [106.44,   3.68],\n",
       "       [ 26.15, 403.2 ]])"
      ]
     },
     "execution_count": 62,
     "metadata": {},
     "output_type": "execute_result"
    }
   ],
   "source": [
    "reshape_product"
   ]
  },
  {
   "cell_type": "code",
   "execution_count": 63,
   "id": "4b90da48",
   "metadata": {},
   "outputs": [
    {
     "data": {
      "text/plain": [
       "148.4"
      ]
     },
     "execution_count": 63,
     "metadata": {},
     "output_type": "execute_result"
    }
   ],
   "source": [
    "np.median(reshape_product)"
   ]
  },
  {
   "cell_type": "code",
   "execution_count": 69,
   "id": "fe24f274",
   "metadata": {},
   "outputs": [
    {
     "data": {
      "text/plain": [
       "143.71"
      ]
     },
     "execution_count": 69,
     "metadata": {},
     "output_type": "execute_result"
    }
   ],
   "source": [
    "np.mean(reshape_product).round(2)"
   ]
  },
  {
   "cell_type": "code",
   "execution_count": 68,
   "id": "a1304c1e",
   "metadata": {},
   "outputs": [
    {
     "data": {
      "text/plain": [
       "225.18"
      ]
     },
     "execution_count": 68,
     "metadata": {},
     "output_type": "execute_result"
    }
   ],
   "source": [
    "np.percentile(reshape_product,90).round(2)"
   ]
  },
  {
   "cell_type": "code",
   "execution_count": 70,
   "id": "6ae3c930",
   "metadata": {},
   "outputs": [
    {
     "data": {
      "text/plain": [
       "array([106.44, 186.24])"
      ]
     },
     "execution_count": 70,
     "metadata": {},
     "output_type": "execute_result"
    }
   ],
   "source": [
    "np.median(reshape_product,axis=0)"
   ]
  },
  {
   "cell_type": "code",
   "execution_count": 71,
   "id": "4ab1371d",
   "metadata": {},
   "outputs": [
    {
     "data": {
      "text/plain": [
       "array([181.9  , 162.32 , 104.58 ,  55.06 , 214.675])"
      ]
     },
     "execution_count": 71,
     "metadata": {},
     "output_type": "execute_result"
    }
   ],
   "source": [
    "np.median(reshape_product,axis=1)"
   ]
  },
  {
   "cell_type": "code",
   "execution_count": 72,
   "id": "4fbc29b4",
   "metadata": {},
   "outputs": [
    {
     "data": {
      "text/plain": [
       "array([  3.68,   6.24,  26.15, 106.44, 138.4 , 158.4 , 186.24, 202.92,\n",
       "       205.4 , 403.2 ])"
      ]
     },
     "execution_count": 72,
     "metadata": {},
     "output_type": "execute_result"
    }
   ],
   "source": [
    "np.unique(reshape_product) #unique is used for categorical data"
   ]
  },
  {
   "cell_type": "code",
   "execution_count": 73,
   "id": "489a4451",
   "metadata": {},
   "outputs": [
    {
     "data": {
      "text/plain": [
       "array([[14.33178286, 12.58570618],\n",
       "       [11.76435294, 13.64697769],\n",
       "       [ 2.4979992 , 14.24499912],\n",
       "       [10.3169763 ,  1.91833261],\n",
       "       [ 5.11370707, 20.07984064]])"
      ]
     },
     "execution_count": 73,
     "metadata": {},
     "output_type": "execute_result"
    }
   ],
   "source": [
    "np.sqrt(reshape_product)"
   ]
  },
  {
   "cell_type": "code",
   "execution_count": 74,
   "id": "37a08c62",
   "metadata": {},
   "outputs": [
    {
     "data": {
      "text/plain": [
       "array([[205.4 , 158.4 ],\n",
       "       [138.4 , 186.24],\n",
       "       [  6.24, 202.92],\n",
       "       [106.44,   3.68],\n",
       "       [ 26.15, 403.2 ]])"
      ]
     },
     "execution_count": 74,
     "metadata": {},
     "output_type": "execute_result"
    }
   ],
   "source": [
    "reshape_product"
   ]
  },
  {
   "cell_type": "code",
   "execution_count": 76,
   "id": "c71f859c",
   "metadata": {},
   "outputs": [
    {
     "data": {
      "text/plain": [
       "array([[158.4 , 205.4 ],\n",
       "       [138.4 , 186.24],\n",
       "       [  6.24, 202.92],\n",
       "       [  3.68, 106.44],\n",
       "       [ 26.15, 403.2 ]])"
      ]
     },
     "execution_count": 76,
     "metadata": {},
     "output_type": "execute_result"
    }
   ],
   "source": [
    "reshape_product.sort()#by default axis =1 \n",
    "reshape_product"
   ]
  },
  {
   "cell_type": "code",
   "execution_count": 77,
   "id": "6596cd06",
   "metadata": {},
   "outputs": [],
   "source": [
    "reshape_product.sort(axis=0)"
   ]
  },
  {
   "cell_type": "code",
   "execution_count": 78,
   "id": "dab8734b",
   "metadata": {},
   "outputs": [
    {
     "data": {
      "text/plain": [
       "array([[  3.68, 106.44],\n",
       "       [  6.24, 186.24],\n",
       "       [ 26.15, 202.92],\n",
       "       [138.4 , 205.4 ],\n",
       "       [158.4 , 403.2 ]])"
      ]
     },
     "execution_count": 78,
     "metadata": {},
     "output_type": "execute_result"
    }
   ],
   "source": [
    "reshape_product"
   ]
  },
  {
   "cell_type": "markdown",
   "id": "2caac72c",
   "metadata": {},
   "source": [
    "## Assignment 6: Aggregating and Sorting Arrays\n",
    "\n",
    "First, grab the top 3 highest priced items in our list. \n",
    "\n",
    "Then, calculated the mean, min, max, and median of the top three prices.\n",
    "\n",
    "Finally, calculate the number of unique price tiers in our `price_tiers` array."
   ]
  },
  {
   "cell_type": "code",
   "execution_count": 79,
   "id": "5669d588",
   "metadata": {},
   "outputs": [
    {
     "data": {
      "text/plain": [
       "array([ 5.99,  6.99, 22.49, 99.99,  4.99, 49.99])"
      ]
     },
     "execution_count": 79,
     "metadata": {},
     "output_type": "execute_result"
    }
   ],
   "source": [
    "prices1 = np.array([5.99, 6.99, 22.49, 99.99, 4.99, 49.99])\n",
    "\n",
    "prices1"
   ]
  },
  {
   "cell_type": "code",
   "execution_count": 80,
   "id": "48a37c93",
   "metadata": {},
   "outputs": [],
   "source": [
    "#top 3 highest priced items\n",
    "\n",
    "prices1.sort() #sort the array from ascending to descending"
   ]
  },
  {
   "cell_type": "code",
   "execution_count": 81,
   "id": "af1a9ffb",
   "metadata": {},
   "outputs": [
    {
     "data": {
      "text/plain": [
       "array([ 4.99,  5.99,  6.99, 22.49, 49.99, 99.99])"
      ]
     },
     "execution_count": 81,
     "metadata": {},
     "output_type": "execute_result"
    }
   ],
   "source": [
    "prices1"
   ]
  },
  {
   "cell_type": "code",
   "execution_count": 94,
   "id": "64cba175",
   "metadata": {},
   "outputs": [],
   "source": [
    "reverse_price =prices1[::-1]# reverse the sorted array"
   ]
  },
  {
   "cell_type": "code",
   "execution_count": 96,
   "id": "cf621035",
   "metadata": {},
   "outputs": [
    {
     "name": "stdout",
     "output_type": "stream",
     "text": [
      "top 3 highest priced items [99.99 49.99 22.49]\n"
     ]
    }
   ],
   "source": [
    "print(\"top 3 highest priced items\",reverse_price[:3])"
   ]
  },
  {
   "cell_type": "code",
   "execution_count": 98,
   "id": "782ee133",
   "metadata": {},
   "outputs": [],
   "source": [
    "top3 =reverse_price[:3]"
   ]
  },
  {
   "cell_type": "code",
   "execution_count": 99,
   "id": "1f32b37b",
   "metadata": {},
   "outputs": [
    {
     "data": {
      "text/plain": [
       "array([99.99, 49.99, 22.49])"
      ]
     },
     "execution_count": 99,
     "metadata": {},
     "output_type": "execute_result"
    }
   ],
   "source": [
    "top3"
   ]
  },
  {
   "cell_type": "code",
   "execution_count": 104,
   "id": "a24029e0",
   "metadata": {},
   "outputs": [
    {
     "name": "stdout",
     "output_type": "stream",
     "text": [
      "minimum 22.49\n",
      "maximum 99.99\n",
      "mean 57.49\n",
      "median 49.99\n"
     ]
    }
   ],
   "source": [
    "print(\"minimum\",top3.min())\n",
    "print(\"maximum\",top3.max())\n",
    "print(\"mean\",top3.mean())\n",
    "print(\"median\",np.median(top3))"
   ]
  },
  {
   "cell_type": "code",
   "execution_count": 105,
   "id": "d31628bc",
   "metadata": {},
   "outputs": [
    {
     "data": {
      "text/plain": [
       "array([ 4.99,  5.99,  6.99, 22.49, 49.99, 99.99])"
      ]
     },
     "execution_count": 105,
     "metadata": {},
     "output_type": "execute_result"
    }
   ],
   "source": [
    "prices1"
   ]
  },
  {
   "cell_type": "code",
   "execution_count": 107,
   "id": "a40246ca",
   "metadata": {},
   "outputs": [],
   "source": [
    "price_tiers = np.array([\"budget\", \"budget\", \"mid-tier\", \"luxury\", \"mid-tier\", \"luxury\"])"
   ]
  },
  {
   "cell_type": "code",
   "execution_count": 108,
   "id": "713340a3",
   "metadata": {},
   "outputs": [
    {
     "data": {
      "text/plain": [
       "array(['budget', 'budget', 'mid-tier', 'luxury', 'mid-tier', 'luxury'],\n",
       "      dtype='<U8')"
      ]
     },
     "execution_count": 108,
     "metadata": {},
     "output_type": "execute_result"
    }
   ],
   "source": [
    "price_tiers"
   ]
  },
  {
   "cell_type": "code",
   "execution_count": 109,
   "id": "a4c5ffa9",
   "metadata": {},
   "outputs": [
    {
     "data": {
      "text/plain": [
       "array(['budget', 'luxury', 'mid-tier'], dtype='<U8')"
      ]
     },
     "execution_count": 109,
     "metadata": {},
     "output_type": "execute_result"
    }
   ],
   "source": [
    "np.unique(price_tiers)"
   ]
  },
  {
   "cell_type": "markdown",
   "id": "bc47c5b9",
   "metadata": {},
   "source": [
    "### Note:\n",
    "<span style =\"color:purple\">1.Numpy forms the **foundation for Pandas**<br>\n",
    "    2.Numpy arrays are **more efficient** than base python list and tuples<br>\n",
    "    3.Array operation let you **aggregate,filter and sort** data</span>"
   ]
  },
  {
   "cell_type": "code",
   "execution_count": null,
   "id": "a5bfcd85",
   "metadata": {},
   "outputs": [],
   "source": []
  }
 ],
 "metadata": {
  "kernelspec": {
   "display_name": "Python 3 (ipykernel)",
   "language": "python",
   "name": "python3"
  },
  "language_info": {
   "codemirror_mode": {
    "name": "ipython",
    "version": 3
   },
   "file_extension": ".py",
   "mimetype": "text/x-python",
   "name": "python",
   "nbconvert_exporter": "python",
   "pygments_lexer": "ipython3",
   "version": "3.10.9"
  }
 },
 "nbformat": 4,
 "nbformat_minor": 5
}
