{
 "cells": [
  {
   "cell_type": "markdown",
   "id": "e57442fd",
   "metadata": {},
   "source": [
    "# <center> Indexing and slicing array</center>"
   ]
  },
  {
   "cell_type": "code",
   "execution_count": 1,
   "id": "ed915e16",
   "metadata": {},
   "outputs": [],
   "source": [
    "import numpy as np"
   ]
  },
  {
   "cell_type": "code",
   "execution_count": 2,
   "id": "1e00164c",
   "metadata": {},
   "outputs": [],
   "source": [
    "products = ['fruits','vegetables','dairy','cereal','eggs','spices','tea','snacks']"
   ]
  },
  {
   "cell_type": "code",
   "execution_count": 3,
   "id": "d1120d54",
   "metadata": {},
   "outputs": [],
   "source": [
    "product_array1d =np.array(products)"
   ]
  },
  {
   "cell_type": "code",
   "execution_count": 4,
   "id": "41f79db7",
   "metadata": {},
   "outputs": [
    {
     "data": {
      "text/plain": [
       "array(['fruits', 'vegetables', 'dairy', 'cereal', 'eggs', 'spices', 'tea',\n",
       "       'snacks'], dtype='<U10')"
      ]
     },
     "execution_count": 4,
     "metadata": {},
     "output_type": "execute_result"
    }
   ],
   "source": [
    "product_array1d"
   ]
  },
  {
   "cell_type": "code",
   "execution_count": 9,
   "id": "b98c3f09",
   "metadata": {},
   "outputs": [
    {
     "name": "stdout",
     "output_type": "stream",
     "text": [
      "single element-- vegetables\n",
      "list of elements-- ['fruits' 'vegetables' 'dairy' 'cereal']\n"
     ]
    }
   ],
   "source": [
    "#indexing and slicing 1-d array is same as indexing in python list\n",
    "\n",
    "print(\"single element--\",product_array1d[1])\n",
    "print(\"list of elements--\",product_array1d[0:4])"
   ]
  },
  {
   "cell_type": "code",
   "execution_count": 10,
   "id": "baeacb43",
   "metadata": {},
   "outputs": [
    {
     "data": {
      "text/plain": [
       "8"
      ]
     },
     "execution_count": 10,
     "metadata": {},
     "output_type": "execute_result"
    }
   ],
   "source": [
    "len(product_array1d)"
   ]
  },
  {
   "cell_type": "code",
   "execution_count": 11,
   "id": "dfa0e222",
   "metadata": {},
   "outputs": [],
   "source": [
    "#creating 2-d array\n",
    "\n",
    "product_array2d =product_array1d.reshape(4,2)"
   ]
  },
  {
   "cell_type": "code",
   "execution_count": 12,
   "id": "7ca15cca",
   "metadata": {},
   "outputs": [
    {
     "data": {
      "text/plain": [
       "array([['fruits', 'vegetables'],\n",
       "       ['dairy', 'cereal'],\n",
       "       ['eggs', 'spices'],\n",
       "       ['tea', 'snacks']], dtype='<U10')"
      ]
     },
     "execution_count": 12,
     "metadata": {},
     "output_type": "execute_result"
    }
   ],
   "source": [
    "product_array2d"
   ]
  },
  {
   "cell_type": "code",
   "execution_count": 14,
   "id": "64752d30",
   "metadata": {},
   "outputs": [
    {
     "data": {
      "text/plain": [
       "'spices'"
      ]
     },
     "execution_count": 14,
     "metadata": {},
     "output_type": "execute_result"
    }
   ],
   "source": [
    "##indexing and slicing 2-d array\n",
    "\n",
    "product_array2d[2,1]"
   ]
  },
  {
   "cell_type": "code",
   "execution_count": 17,
   "id": "8967a092",
   "metadata": {},
   "outputs": [
    {
     "data": {
      "text/plain": [
       "'tea'"
      ]
     },
     "execution_count": 17,
     "metadata": {},
     "output_type": "execute_result"
    }
   ],
   "source": [
    "product_array2d[3,0]"
   ]
  },
  {
   "cell_type": "code",
   "execution_count": 20,
   "id": "7e85266c",
   "metadata": {},
   "outputs": [
    {
     "data": {
      "text/plain": [
       "array([['eggs', 'spices'],\n",
       "       ['tea', 'snacks']], dtype='<U10')"
      ]
     },
     "execution_count": 20,
     "metadata": {},
     "output_type": "execute_result"
    }
   ],
   "source": [
    "product_array2d[2:]"
   ]
  },
  {
   "cell_type": "code",
   "execution_count": 21,
   "id": "451b1ebe",
   "metadata": {},
   "outputs": [],
   "source": [
    "integer_array=np.arange(12)"
   ]
  },
  {
   "cell_type": "code",
   "execution_count": 22,
   "id": "b5d2e3b3",
   "metadata": {},
   "outputs": [
    {
     "data": {
      "text/plain": [
       "array([ 0,  1,  2,  3,  4,  5,  6,  7,  8,  9, 10, 11])"
      ]
     },
     "execution_count": 22,
     "metadata": {},
     "output_type": "execute_result"
    }
   ],
   "source": [
    "integer_array"
   ]
  },
  {
   "cell_type": "code",
   "execution_count": 24,
   "id": "fc93d6b7",
   "metadata": {},
   "outputs": [],
   "source": [
    "integer_2d = integer_array.reshape(6,2)"
   ]
  },
  {
   "cell_type": "code",
   "execution_count": 25,
   "id": "1b5d5c93",
   "metadata": {},
   "outputs": [
    {
     "data": {
      "text/plain": [
       "array([[ 0,  1],\n",
       "       [ 2,  3],\n",
       "       [ 4,  5],\n",
       "       [ 6,  7],\n",
       "       [ 8,  9],\n",
       "       [10, 11]])"
      ]
     },
     "execution_count": 25,
     "metadata": {},
     "output_type": "execute_result"
    }
   ],
   "source": [
    "integer_2d"
   ]
  },
  {
   "cell_type": "code",
   "execution_count": 29,
   "id": "884c4615",
   "metadata": {},
   "outputs": [
    {
     "data": {
      "text/plain": [
       "array([[ 4,  5],\n",
       "       [ 6,  7],\n",
       "       [ 8,  9],\n",
       "       [10, 11]])"
      ]
     },
     "execution_count": 29,
     "metadata": {},
     "output_type": "execute_result"
    }
   ],
   "source": [
    "integer_2d[2:,]"
   ]
  },
  {
   "cell_type": "code",
   "execution_count": 31,
   "id": "f23b4b01",
   "metadata": {},
   "outputs": [
    {
     "data": {
      "text/plain": [
       "5"
      ]
     },
     "execution_count": 31,
     "metadata": {},
     "output_type": "execute_result"
    }
   ],
   "source": [
    "integer_2d[2,1]"
   ]
  },
  {
   "cell_type": "code",
   "execution_count": 34,
   "id": "1fb1efaa",
   "metadata": {},
   "outputs": [
    {
     "data": {
      "text/plain": [
       "array([[ 8,  9],\n",
       "       [10, 11]])"
      ]
     },
     "execution_count": 34,
     "metadata": {},
     "output_type": "execute_result"
    }
   ],
   "source": [
    "integer_2d[-2:,]"
   ]
  },
  {
   "cell_type": "code",
   "execution_count": 36,
   "id": "99353a97",
   "metadata": {},
   "outputs": [
    {
     "data": {
      "text/plain": [
       "array([[0, 1],\n",
       "       [4, 5],\n",
       "       [8, 9]])"
      ]
     },
     "execution_count": 36,
     "metadata": {},
     "output_type": "execute_result"
    }
   ],
   "source": [
    "integer_2d[::2]"
   ]
  },
  {
   "cell_type": "markdown",
   "id": "8089ca67",
   "metadata": {},
   "source": [
    "## Assignment 3: Accessing Array Data\n",
    "\n",
    "\n",
    " Perform the following:\n",
    "\n",
    "* Grab the first two 'rows' of the array\n",
    "* Grab the entire first column\n",
    "* Finally, grab the second selement of the third row.\n",
    "\n",
    "\n"
   ]
  },
  {
   "cell_type": "code",
   "execution_count": 41,
   "id": "2588bfbd",
   "metadata": {},
   "outputs": [],
   "source": [
    "from numpy.random import default_rng\n",
    "\n",
    "rng =default_rng(12345)\n",
    "random_array =rng.random(10)"
   ]
  },
  {
   "cell_type": "code",
   "execution_count": 42,
   "id": "4652cfe5",
   "metadata": {},
   "outputs": [
    {
     "data": {
      "text/plain": [
       "array([0.22733602, 0.31675834, 0.79736546, 0.67625467, 0.39110955,\n",
       "       0.33281393, 0.59830875, 0.18673419, 0.67275604, 0.94180287])"
      ]
     },
     "execution_count": 42,
     "metadata": {},
     "output_type": "execute_result"
    }
   ],
   "source": [
    "random_array"
   ]
  },
  {
   "cell_type": "code",
   "execution_count": 46,
   "id": "941fa186",
   "metadata": {},
   "outputs": [],
   "source": [
    "random_2d = random_array.reshape(5,2)"
   ]
  },
  {
   "cell_type": "code",
   "execution_count": 47,
   "id": "a9fb3209",
   "metadata": {},
   "outputs": [
    {
     "data": {
      "text/plain": [
       "array([[0.22733602, 0.31675834],\n",
       "       [0.79736546, 0.67625467],\n",
       "       [0.39110955, 0.33281393],\n",
       "       [0.59830875, 0.18673419],\n",
       "       [0.67275604, 0.94180287]])"
      ]
     },
     "execution_count": 47,
     "metadata": {},
     "output_type": "execute_result"
    }
   ],
   "source": [
    "random_2d"
   ]
  },
  {
   "cell_type": "code",
   "execution_count": 50,
   "id": "2e1d9abb",
   "metadata": {},
   "outputs": [
    {
     "data": {
      "text/plain": [
       "array([[0.22733602, 0.31675834],\n",
       "       [0.79736546, 0.67625467]])"
      ]
     },
     "execution_count": 50,
     "metadata": {},
     "output_type": "execute_result"
    }
   ],
   "source": [
    "#grab first two rows\n",
    "random_2d[:2]"
   ]
  },
  {
   "cell_type": "code",
   "execution_count": 53,
   "id": "025d2169",
   "metadata": {},
   "outputs": [
    {
     "data": {
      "text/plain": [
       "array([0.22733602, 0.79736546, 0.39110955, 0.59830875, 0.67275604])"
      ]
     },
     "execution_count": 53,
     "metadata": {},
     "output_type": "execute_result"
    }
   ],
   "source": [
    "#grab the entire first column\n",
    "\n",
    "random_2d[:,0]"
   ]
  },
  {
   "cell_type": "code",
   "execution_count": 55,
   "id": "79f63597",
   "metadata": {},
   "outputs": [
    {
     "data": {
      "text/plain": [
       "0.33281392786638453"
      ]
     },
     "execution_count": 55,
     "metadata": {},
     "output_type": "execute_result"
    }
   ],
   "source": [
    "#second number in third row\n",
    "random_2d[2,1]"
   ]
  },
  {
   "cell_type": "code",
   "execution_count": null,
   "id": "6a36b069",
   "metadata": {},
   "outputs": [],
   "source": []
  }
 ],
 "metadata": {
  "kernelspec": {
   "display_name": "Python 3 (ipykernel)",
   "language": "python",
   "name": "python3"
  },
  "language_info": {
   "codemirror_mode": {
    "name": "ipython",
    "version": 3
   },
   "file_extension": ".py",
   "mimetype": "text/x-python",
   "name": "python",
   "nbconvert_exporter": "python",
   "pygments_lexer": "ipython3",
   "version": "3.10.9"
  }
 },
 "nbformat": 4,
 "nbformat_minor": 5
}
